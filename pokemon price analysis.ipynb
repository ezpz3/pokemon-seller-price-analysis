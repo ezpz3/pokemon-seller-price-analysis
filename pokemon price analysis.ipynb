{
 "cells": [
  {
   "cell_type": "markdown",
   "id": "41aec436-cd6f-4337-8d86-203ae236f135",
   "metadata": {},
   "source": [
    "# eBay Pokémon Listing Analysis\n",
    "\n",
    "This notebook analyzes eBay listings for the Pokémon product: **Prismatic Evolutions Super Premium Collection**, with a focus on whether **listing quality** and **seller reputation** affect listing prices."
   ]
  },
  {
   "cell_type": "markdown",
   "id": "3fbc7f1a-6907-4bc0-8044-0c2395120a2b",
   "metadata": {},
   "source": [
    "## Data Collection\n",
    "\n",
    "We use eBay's **Browse API** to retrieve up to 1,000 listings matching specific search criteria:\n",
    "\n",
    "- Product: Pokemon Prismatic Evolutions Super Premium Collection\n",
    "- Format: Fixed-price listings\n",
    "- Category: Collectible Card Games\n",
    "- Condition: New\n",
    "\n",
    "The JSON response is parsed and stored in a Pandas DataFrame."
   ]
  },
  {
   "cell_type": "code",
   "execution_count": 2,
   "id": "3c38c9a0-c97b-4d8a-8975-ef7e0069d926",
   "metadata": {},
   "outputs": [],
   "source": [
    "import requests\n",
    "import pandas as pd\n",
    "import numpy as np\n",
    "import matplotlib.pyplot as plt\n",
    "import seaborn as sns\n",
    "from scipy.stats import mannwhitneyu\n",
    "\n",
    "access_token = 'your_ebay_access_token_here'\n",
    "headers = {'Authorization':f'Bearer {access_token}'}\n",
    "\n",
    "df = pd.DataFrame()\n",
    "offset = 0\n",
    "while offset < 1000:\n",
    "    url = f'https://api.ebay.com/buy/browse/v1/item_summary/search?q=pokemon+prismatic+evolutions+super+premium+collection+-lot+-case+-bundle+-x+-presale&limit=200&offset={offset}&category_ids=2536&filter=conditionIds:1000,priceCurrency:USD,buyingOptions:FIXED_PRICE'\n",
    "    response = requests.get(url, headers=headers)\n",
    "    data = response.json()\n",
    "    items = data.get(\"itemSummaries\", [])\n",
    "    df_temp = pd.DataFrame(items)\n",
    "    df = pd.concat([df, df_temp])\n",
    "    offset+=200"
   ]
  },
  {
   "cell_type": "markdown",
   "id": "256be213-79b1-4d32-bf0f-8573365f457c",
   "metadata": {},
   "source": [
    "## Understanding and Cleaning the Data\n",
    "\n",
    "Here we analyze the structure of the data and clean it to ensure that we're only analyzing relevant listings.\n",
    "\n",
    "### Goals:\n",
    "- Identify and remove listings that are single quanitity but indicate \"bundles,\" or multiple sets/boxes in the same listing for sale (e.g., \"2 boxes\", \"three sets\")\n",
    "- Reset the DataFrame index to match their corresponding positions\n",
    "- Extract listing prices into a new DataFrame\n",
    "\n",
    "We also define a helper function `extract_prices()` to simplify working with the price data."
   ]
  },
  {
   "cell_type": "code",
   "execution_count": 60,
   "id": "e7455450-e30e-4afc-9451-39f20437e9a5",
   "metadata": {},
   "outputs": [
    {
     "name": "stdout",
     "output_type": "stream",
     "text": [
      "Index(['itemId', 'title', 'leafCategoryIds', 'categories', 'image', 'price',\n",
      "       'itemHref', 'seller', 'condition', 'conditionId', 'thumbnailImages',\n",
      "       'shippingOptions', 'buyingOptions', 'epid', 'itemWebUrl',\n",
      "       'itemLocation', 'additionalImages', 'adultOnly', 'legacyItemId',\n",
      "       'availableCoupons', 'itemOriginDate', 'itemCreationDate',\n",
      "       'topRatedBuyingExperience', 'priorityListing', 'listingMarketplaceId',\n",
      "       'pickupOptions', 'marketingPrice', 'bidCount', 'currentBidPrice',\n",
      "       'itemEndDate', 'itemGroupHref', 'itemGroupType'],\n",
      "      dtype='object')\n",
      "0      Pokemon Prismatic Evolutions Super Premium Col...\n",
      "1      Prismatic Evolutions Super Premium Collection ...\n",
      "2      Pokemon Prismatic Evolutions Super Premium Col...\n",
      "3      Prismatic Evolutions Super Premium Collection ...\n",
      "4      Pokemon Prismatic Evolutions Super Premium Col...\n",
      "                             ...                        \n",
      "195    Prismatic Evolutions Super Premium Collection ...\n",
      "196    Pokemon TCG  Prismatic Evolutions Super Premiu...\n",
      "197        PRISMATIC EVOLUTIONS SUPER PREMIUM COLLECTION\n",
      "198        Prismatic Evolutions Super Premium Collection\n",
      "199    Eevee Promo Card 174 from PRISMATIC Super Prem...\n",
      "Name: title, Length: 1000, dtype: object\n",
      "      prices\n",
      "24   1091.37\n",
      "609   600.00\n",
      "849   550.00\n",
      "869   470.00\n",
      "617   439.99\n",
      "871   430.42\n",
      "316   400.00\n",
      "541   400.00\n",
      "172   399.95\n",
      "180   399.95\n",
      "580   395.00\n",
      "762   384.22\n",
      "604   359.99\n",
      "723   359.99\n",
      "708   354.85\n"
     ]
    },
    {
     "data": {
      "text/plain": [
       "prices    600.0\n",
       "dtype: float64"
      ]
     },
     "execution_count": 60,
     "metadata": {},
     "output_type": "execute_result"
    }
   ],
   "source": [
    "print(df.columns)\n",
    "\n",
    "print(df['title'])\n",
    "\n",
    "filtered_numbers = r'[0-9]|[0️⃣1️⃣2️⃣3️⃣4️⃣5️⃣6️⃣7️⃣8️⃣9️⃣]|\\bone\\b|\\btwo\\b|\\bthree\\b|\\bfour\\b|\\bfive\\b|\\bsix\\b|\\bseven\\b|\\beight\\b|\\bnine\\b|\\bten\\b'\n",
    "\n",
    "# Filter out listings that mention multiple boxes (e.g. \"2 boxes\", \"three, \"six\")\n",
    "df = df[~df['title'].str.contains(filtered_numbers, regex=True, case=False)]\n",
    "\n",
    "df = df.reset_index(drop=True)\n",
    "\n",
    "def extract_prices(df):\n",
    "    return [float(priceDict['value']) for priceDict in df['price']]\n",
    "    \n",
    "prices = extract_prices(df)\n",
    "df_price = pd.DataFrame(prices, columns=['prices'])\n",
    "\n",
    "df_price_top_15 = df_price.nlargest(15, 'prices')\n",
    "print(df_price_top_15)\n",
    "\n",
    "max_price_index = df_price['prices'].idxmax()\n",
    "df = df.drop(index=max_price_index).reset_index(drop=True)\n",
    "\n",
    "prices = extract_prices(df) \n",
    "df_price = pd.DataFrame(prices, columns=['prices'])\n",
    "df_price.max()"
   ]
  },
  {
   "cell_type": "markdown",
   "id": "5478483d-cec3-46c3-9713-bd43ab0ec0b2",
   "metadata": {},
   "source": [
    "## Splitting Listings by Seller Quality\n",
    "\n",
    "We split listings by two indicators of seller trust:\n",
    "\n",
    "1. **Top-Rated Plus** — based on eBay's internal designation.\n",
    "2. **Top Sellers** — based on seller feedback metrics."
   ]
  },
  {
   "cell_type": "markdown",
   "id": "795bfca8-739b-42e9-96a7-0bc925acd0b1",
   "metadata": {},
   "source": [
    "### Top-Rated Plus vs Non Top-Rated Plus\n",
    "\n",
    "This section splits listings based on the `topRatedBuyingExperience` field from eBay's API. This is a boolean value, where True indicates that the listing is a 'top-rated plus item.'\n",
    "\n",
    "A listing is labeled as a 'Top-Rated Plus item' if it meets strict eBay criteria:\n",
    "- A **minimum 30-day money-back return policy**\n",
    "- **Shipping within 1 business day** (with tracking)\n",
    "- Sold by an **experienced seller with the highest buyer ratings**\n",
    "\n",
    "These listings may command higher prices due to the added reliability, convienence, and trust."
   ]
  },
  {
   "cell_type": "code",
   "execution_count": 61,
   "id": "713fae6c-808e-41fc-b7bd-0eff9c10254b",
   "metadata": {},
   "outputs": [
    {
     "name": "stdout",
     "output_type": "stream",
     "text": [
      "16\n",
      "879\n"
     ]
    }
   ],
   "source": [
    "top_rated_plus = df[df['topRatedBuyingExperience']==True]\n",
    "not_top_rated_plus = df[df['topRatedBuyingExperience']==False]\n",
    "\n",
    "top_rated_plus_prices = extract_prices(top_rated_plus)\n",
    "top_rated_plus_listings_sample_size = len(top_rated_plus_prices)\n",
    "\n",
    "non_top_rated_plus_prices = extract_prices(not_top_rated_plus)\n",
    "non_top_rated_plus_listings_sample_size = len(non_top_rated_plus_prices)\n",
    "\n",
    "print(top_rated_plus_listings_sample_size)\n",
    "print(non_top_rated_plus_listings_sample_size)"
   ]
  },
  {
   "cell_type": "markdown",
   "id": "0f9079bf-ba70-4728-a39f-a143b49cb306",
   "metadata": {},
   "source": [
    "## Top Sellers vs Non Top Sellers\n",
    "\n",
    "We defined **Top Sellers** as those with:\n",
    "- Feedabck Percentage ≥ 99%\n",
    "- Feedback score ≥ 100\n",
    "\n",
    "These thresholds identify reputable sellers with consistently high performance.\n",
    "\n",
    "We create:\n",
    "- A `top_sellers_df` DataFrame containing listings from top sellers\n",
    "- A `non_top_sellers_df` DataFrame for all others\n",
    "\n",
    "We also extract price data and count how many listings fall into each group."
   ]
  },
  {
   "cell_type": "code",
   "execution_count": 62,
   "id": "8facb925-f032-4973-8019-7257abfda0cb",
   "metadata": {},
   "outputs": [
    {
     "name": "stdout",
     "output_type": "stream",
     "text": [
      "312\n"
     ]
    }
   ],
   "source": [
    "# Checking the entry format of the seller column\n",
    "df.loc[0, 'seller']\n",
    "\n",
    "top_seller_indicies = [i for i, dict in enumerate(df['seller']) if float(dict['feedbackPercentage'])>=99.0 and float(dict['feedbackScore'])>=100.0]\n",
    "print(len(top_seller_indicies))\n",
    "\n",
    "top_sellers_df = df.iloc[top_seller_indicies]\n",
    "non_top_seller_df = df.drop(index=top_seller_indicies)\n",
    "\n",
    "top_seller_prices = extract_prices(top_sellers_df)\n",
    "top_seller_sample_size = len(top_seller_prices)\n",
    "\n",
    "non_top_seller_prices = extract_prices(non_top_seller_df)\n",
    "non_top_seller_sample_size = len(non_top_seller_prices)"
   ]
  },
  {
   "cell_type": "markdown",
   "id": "bf0e55a7-6feb-4c75-a35d-aa21ff2d390b",
   "metadata": {},
   "source": [
    "## Statistical Evaluation\n",
    "\n",
    "We compute summuary statistics for each seller group to evaulate price differences (mean, median, min, max). We will also conduct a Mann-Whitney U test on both sets of listings to test for statistical significance."
   ]
  },
  {
   "cell_type": "code",
   "execution_count": 63,
   "id": "0931be17-8d4d-4ee2-8300-cc2beaaee867",
   "metadata": {},
   "outputs": [],
   "source": [
    "def price_stats(set):\n",
    "    mean = np.mean(set)\n",
    "    median = np.median(set)\n",
    "    min_price = np.min(set)\n",
    "    max_price = np.max(set)\n",
    "    return mean, median, min_price, max_price\n",
    "\n",
    "def mannwhitneyu_test(group_a, group_b):\n",
    "    _, p = mannwhitneyu(group_a, group_b, alternative='two-sided')\n",
    "    return p"
   ]
  },
  {
   "cell_type": "markdown",
   "id": "fc9cd3d2-0f41-4791-9c43-2d725e49c404",
   "metadata": {},
   "source": [
    "### Top-Rated Plus vs Non Top-Rated Plus Statistical Evaluation\n",
    "\n",
    "We compare the price distributions between top-rated plus listings and all others. This allows us to evaluate whether eBay's quality label correlates with higher prices."
   ]
  },
  {
   "cell_type": "code",
   "execution_count": 64,
   "id": "2f527f2a-4be2-4bd9-9d04-9393f7e05b9a",
   "metadata": {},
   "outputs": [
    {
     "name": "stdout",
     "output_type": "stream",
     "text": [
      "Top-Rated Plus Sample Size: 16\n",
      "Non-Top-Rated Plus Sample Size: 879 \n",
      "\n",
      "Top-Rated Plus Mean: 202.036875\n",
      "Top-Rated Plus Median: 232.0\n",
      "Top-Rated Plus Min: 24.95\n",
      "Top-Rated Plus Max: 280.0 \n",
      "\n",
      "Non Top-Rated Plus Plus Mean: 196.84637087599543\n",
      "Non Top-Rated Plus Plus Median: 210.0\n",
      "Non Top-Rated Plus Plus Min: 3.36\n",
      "Non Top-Rated Plus Plus Max: 600.0 \n",
      "\n",
      "Mann-Whitney U P-value: 0.2077934584671408\n"
     ]
    }
   ],
   "source": [
    "trps_mean, trps_median, trps_min, trps_max = price_stats(top_rated_plus_prices)\n",
    "ntrps_mean, ntrps_median, ntrps_min, ntrps_max = price_stats(non_top_rated_plus_prices)\n",
    "\n",
    "print(\"Top-Rated Plus Sample Size:\", top_rated_plus_listings_sample_size)\n",
    "print(\"Non-Top-Rated Plus Sample Size:\", non_top_rated_plus_listings_sample_size, '\\n')\n",
    "\n",
    "print(\"Top-Rated Plus Mean:\", trps_mean)\n",
    "print(\"Top-Rated Plus Median:\", trps_median)\n",
    "print(\"Top-Rated Plus Min:\", trps_min)\n",
    "print(\"Top-Rated Plus Max:\", trps_max, \"\\n\")\n",
    "\n",
    "print(\"Non Top-Rated Plus Plus Mean:\", ntrps_mean)\n",
    "print(\"Non Top-Rated Plus Plus Median:\", ntrps_median)\n",
    "print(\"Non Top-Rated Plus Plus Min:\", ntrps_min)\n",
    "print(\"Non Top-Rated Plus Plus Max:\", ntrps_max, \"\\n\")\n",
    "\n",
    "trp_vs_ntrp_p = mannwhitneyu_test(top_rated_plus_prices, non_top_rated_plus_prices)\n",
    "\n",
    "print(\"Mann-Whitney U P-value:\", trp_vs_ntrp_p)"
   ]
  },
  {
   "cell_type": "markdown",
   "id": "90f2f0b0-e6a8-47f6-8c9d-eef2bf24f81e",
   "metadata": {},
   "source": [
    "## Top Sellers vs Non Top Sellers Statistical Evaluation"
   ]
  },
  {
   "cell_type": "code",
   "execution_count": 65,
   "id": "0882e7fe-1f46-40ec-846d-faf07c801447",
   "metadata": {},
   "outputs": [
    {
     "name": "stdout",
     "output_type": "stream",
     "text": [
      "Top-Seller Sample Size: 312\n",
      "Non-Top-Seller Sample Size: 583 \n",
      "\n",
      "Top-Sellers Mean: 199.90493589743588\n",
      "Top-Sellers Median: 211.51999999999998\n",
      "Top-Sellers Min: 3.36\n",
      "Top-Sellers Max: 600.0 \n",
      "\n",
      "Non Top-Sellers Mean: 195.3519897084048\n",
      "Non Top-Sellers Median: 210.0\n",
      "Non Top-Sellerss Min: 7.99\n",
      "Non Top-Sellers Max: 550.0 \n",
      "\n",
      "Mann-Whitney U P-value: 0.34372147049407753\n"
     ]
    }
   ],
   "source": [
    "ts_mean, ts_median, ts_min, ts_max = price_stats(top_seller_prices)\n",
    "nts_mean, nts_median, nts_min, nts_max = price_stats(non_top_seller_prices)\n",
    "\n",
    "print(\"Top-Seller Sample Size:\", top_seller_sample_size)\n",
    "print(\"Non-Top-Seller Sample Size:\", non_top_seller_sample_size, '\\n')\n",
    "\n",
    "print(\"Top-Sellers Mean:\", ts_mean)\n",
    "print(\"Top-Sellers Median:\", ts_median)\n",
    "print(\"Top-Sellers Min:\", ts_min)\n",
    "print(\"Top-Sellers Max:\", ts_max, \"\\n\")\n",
    "\n",
    "print(\"Non Top-Sellers Mean:\", nts_mean)\n",
    "print(\"Non Top-Sellers Median:\", nts_median)\n",
    "print(\"Non Top-Sellerss Min:\", nts_min)\n",
    "print(\"Non Top-Sellers Max:\", nts_max, \"\\n\")\n",
    "\n",
    "ts_vs_non_ts_p = mannwhitneyu_test(top_seller_prices, non_top_seller_prices)\n",
    "\n",
    "print(\"Mann-Whitney U P-value:\", ts_vs_non_ts_p)"
   ]
  },
  {
   "cell_type": "markdown",
   "id": "73b54f17-630f-4ba4-bd01-78e3031b83c2",
   "metadata": {},
   "source": [
    "## Visualizations\n",
    "\n",
    "We use boxplots and KDE plots to compare price distributions"
   ]
  },
  {
   "cell_type": "markdown",
   "id": "7ceab6d2-a58c-4081-9dce-30ed561b577a",
   "metadata": {},
   "source": [
    "## Boxplot: Top-Rated Plus vs Non Top-Rated Plus"
   ]
  },
  {
   "cell_type": "code",
   "execution_count": 70,
   "id": "a05327cf-0fbb-4318-b415-e94a7225e876",
   "metadata": {},
   "outputs": [
    {
     "data": {
      "image/png": "[encoded data removed]",
      "text/plain": [
       "<Figure size 640x480 with 1 Axes>"
      ]
     },
     "metadata": {},
     "output_type": "display_data"
    }
   ],
   "source": [
    "data = [top_rated_plus_prices, non_top_rated_plus_prices]\n",
    "labels = ['Top-Rated Plus', 'Non Top-Rated Plus']\n",
    "\n",
    "plt.boxplot(data, tick_labels=labels, patch_artist=True)\n",
    "plt.ylabel('Listing Price (USD)')\n",
    "plt.title('Boxplot of Listing Prices: Top-Rated Plus vs Non-Top-Rated Plus')\n",
    "plt.savefig(\"boxplot.png\", dpi=300, bbox_inches='tight')\n",
    "plt.show()"
   ]
  },
  {
   "cell_type": "markdown",
   "id": "fb87bb8d-b140-4ca2-856e-89dac781ec66",
   "metadata": {},
   "source": [
    "KDE plot visualization for top-seller groups"
   ]
  },
  {
   "cell_type": "code",
   "execution_count": 72,
   "id": "c98d0dcf-6450-48cb-b116-01c750e6e4c4",
   "metadata": {},
   "outputs": [
    {
     "data": {
      "image/png": "[encoded data removed]",
      "text/plain": [
       "<Figure size 640x480 with 1 Axes>"
      ]
     },
     "metadata": {},
     "output_type": "display_data"
    }
   ],
   "source": [
    "sns.kdeplot(data=top_seller_prices, label='Top Sellers', fill=True)\n",
    "sns.kdeplot(data=non_top_seller_prices, label='Non-Top Sellers', fill=True)\n",
    "plt.legend()\n",
    "plt.xlim(left=0)\n",
    "plt.ylabel('Probability Density')\n",
    "plt.xlabel('Listing Price (USD)')\n",
    "plt.savefig(\"kde_plot.png\", dpi=300, bbox_inches='tight')\n",
    "plt.show()"
   ]
  },
  {
   "cell_type": "markdown",
   "id": "22770656-3759-44cb-b686-00b5c2fcff8a",
   "metadata": {},
   "source": [
    "## Summary\n",
    "\n",
    "**Top-Rated Plus vs Not-Top-Rated Plus listings**\n",
    "\n",
    "It is important to note the substantial imbalance in sample sizes between the Top-Rated Plus and Non-Top-Rated Plus groups: the former includes only 16 listings, while the latter includes 879. This discrepancy warrants cautious interpretation.\n",
    "\n",
    "Summary statistics — including the mean, median, minimum, and maximum listing prices — were calculated for each group. The Top-Rated Plus group showed slightly higher mean, median, and minimum values. However, its maximum listing price (280) was significantly lower than that of the Non-Top-Rated Plus group (600).\n",
    "\n",
    "While the median prices between the two groups are relatively similar, there is a notable difference in price distribution. The Top-Rated Plus listings display a tighter, more consistent spread, whereas the Non-Top-Rated Plus listings show greater variability and a larger number of outliers.\n",
    "\n",
    "At first glance, there appears to be some evidence of pricing variability between Top-Rated Plus and Non-Top-Rated Plus item listings. However, given the large disparity in sample sizes, these patterns may not accurately reflect a true relationship — if any — between the two groups.\n",
    "\n",
    "A Mann-Whitney U test was conducted to assess whether the difference in listing price distributions between the Top-Rated Plus and Non-Top-Rated Plus groups was statistically significant. The resulting p-value was approximately 0.208, which is well above the conventional significance threshold (e.g., α = 0.05).\n",
    "\n",
    "This suggests that there is no statistically significant difference in the distribution of listing prices between the two groups.\n",
    "\n",
    "Combined with the substantial sample size imbalance (16 vs 879), this result further supports the conclusion that any observed differences in spread or central tendency should be interpreted with caution, and may not reflect a true underlying difference in pricing behavior.\n",
    "\n",
    "**Top Sellers vs Non-Top Sellers**\n",
    "\n",
    "Based on a sample of 312 Top Seller listings and 583 Non-Top Seller listings, there is no significant difference in listing price distributions between the two groups. Both groups have nearly identical medians (210 and 211), slightly differing means (~199 vs 195), and similar minimum/maximum values.\n",
    "\n",
    "The KDE plot shows a high degree of overlap, indicating that the overall shape and spread of the distributions are nearly indistinguishable.\n",
    "\n",
    "Additionally, the Mann-Whitney U test yielded a p-value of 0.344, confirming that the observed differences are not statistically significant.\n",
    "\n",
    "These findings suggest that Top Seller status, as defined in this dataset, does not appear to influence listing price in a meaningful way.\n",
    "\n",
    "**Overall Conclusion**\n",
    "\n",
    "These findings suggest that, for this specific Pokémon item, seller designation — whether \"Top-Rated Plus\" or \"Top Seller\" — does not significantly influence how the item is priced. While small visual differences in price distribution appeared in the smaller group (Top-Rated Plus), statistical testing did not support any meaningful difference in listing prices across seller statuses."
   ]
  }
 ],
 "metadata": {
  "kernelspec": {
   "display_name": "Python 3 (ipykernel)",
   "language": "python",
   "name": "python3"
  },
  "language_info": {
   "codemirror_mode": {
    "name": "ipython",
    "version": 3
   },
   "file_extension": ".py",
   "mimetype": "text/x-python",
   "name": "python",
   "nbconvert_exporter": "python",
   "pygments_lexer": "ipython3",
   "version": "3.12.1"
  }
 },
 "nbformat": 4,
 "nbformat_minor": 5
}
